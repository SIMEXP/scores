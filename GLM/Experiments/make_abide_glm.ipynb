{
 "cells": [
  {
   "cell_type": "markdown",
   "metadata": {},
   "source": [
    "# Make a glm matrix\n",
    "The purpose of this script is to generate a glm matrix based on the phenotypic file"
   ]
  },
  {
   "cell_type": "code",
   "execution_count": 14,
   "metadata": {
    "collapsed": false
   },
   "outputs": [],
   "source": [
    "# Imports\n",
    "import os\n",
    "import glob\n",
    "import numpy as np\n",
    "import pandas as pd\n",
    "import scipy.io as sio\n",
    "from matplotlib import pyplot as plt"
   ]
  },
  {
   "cell_type": "code",
   "execution_count": 15,
   "metadata": {
    "collapsed": false
   },
   "outputs": [
    {
     "name": "stdout",
     "output_type": "stream",
     "text": [
      "Populating the interactive namespace from numpy and matplotlib\n"
     ]
    },
    {
     "name": "stderr",
     "output_type": "stream",
     "text": [
      "WARNING: pylab import has clobbered these variables: ['f']\n",
      "`%matplotlib` prevents importing * from pylab and numpy\n"
     ]
    }
   ],
   "source": [
    "%pylab inline"
   ]
  },
  {
   "cell_type": "code",
   "execution_count": 16,
   "metadata": {
    "collapsed": true
   },
   "outputs": [],
   "source": [
    "# Paths\n",
    "use = 'target'\n",
    "f_pheno = '/data1/abide/Pheno/glm_pheno.csv'\n",
    "f_glm = '/data1/scores/glm/abide/glm_abide.mat'\n",
    "f_sub = '/data1/scores/glm/abide/subjects.csv'\n",
    "f_seed_path = '/data1/scores/glm/abide/seed_paths_{}.csv'.format(use)\n",
    "f_scores_path = '/data1/scores/glm/abide/scores_paths_{}.csv'.format(use)\n",
    "f_dual_path = '/data1/scores/glm/abide/dual_paths_{}.csv'.format(use)\n",
    "scores_path = '/data1/abide/Out/Scores/sc07/{}/stability_maps'.format(use)\n",
    "seed_path = '/data1/abide/Out/Scores/sc07/time/rmap_part'\n",
    "dual_path = '/data1/abide/Out/Scores/sc07/time/dual_regression'\n",
    "scores_temp = '*_fmri_{:07d}_session_1_run1_stability_maps.nii.gz'\n",
    "seed_temp = '*_fmri_{:07d}_session_1_run1_rmap_part.nii.gz'\n",
    "dual_temp = '*_fmri_{:07d}_session_1_run1_dual_regression.nii.gz'"
   ]
  },
  {
   "cell_type": "code",
   "execution_count": 17,
   "metadata": {
    "collapsed": true
   },
   "outputs": [],
   "source": [
    "pheno = pd.read_csv(f_pheno)"
   ]
  },
  {
   "cell_type": "code",
   "execution_count": 18,
   "metadata": {
    "collapsed": false
   },
   "outputs": [
    {
     "data": {
      "text/plain": [
       "Index([u'sub', u'site', u'sex', u'diag', u'age', u'mean_fd'], dtype='object')"
      ]
     },
     "execution_count": 18,
     "metadata": {},
     "output_type": "execute_result"
    }
   ],
   "source": [
    "pheno.keys()"
   ]
  },
  {
   "cell_type": "code",
   "execution_count": 19,
   "metadata": {
    "collapsed": false
   },
   "outputs": [],
   "source": [
    "sites = list(pheno['site'].unique())\n",
    "# We now know that I don't have Yale so I'll drop it\n",
    "sites.pop(sites.index('YALE'))\n",
    "#drop_list = sites(0)\n",
    "#sites.pop(drop_list)\n",
    "num_sites = len(sites)\n",
    "# Add the number of sites to this but subtract 2 (because site is a covariate as well\n",
    "# and one site will be excluded\n",
    "num_covs = len(pheno.keys()) + num_sites -2"
   ]
  },
  {
   "cell_type": "code",
   "execution_count": 20,
   "metadata": {
    "collapsed": false
   },
   "outputs": [
    {
     "name": "stdout",
     "output_type": "stream",
     "text": [
      "not using YALE\n",
      "not using YALE\n",
      "not using YALE\n",
      "not using YALE\n",
      "not using YALE\n",
      "not using YALE\n",
      "not using YALE\n",
      "not using YALE\n",
      "not using YALE\n",
      "not using YALE\n",
      "not using YALE\n",
      "not using YALE\n",
      "not using YALE\n",
      "not using YALE\n",
      "not using YALE\n",
      "not using YALE\n",
      "not using YALE\n",
      "not using YALE\n",
      "not using YALE\n",
      "not using YALE\n",
      "not using YALE\n",
      "not using YALE\n",
      "not using YALE\n",
      "not using YALE\n",
      "not using YALE\n",
      "not using YALE\n",
      "not using YALE\n",
      "not using YALE\n",
      "not using YALE\n",
      "not using YALE\n",
      "not using YALE\n",
      "not using YALE\n",
      "not using YALE\n",
      "not using YALE\n",
      "not using YALE\n",
      "not using YALE\n",
      "not using YALE\n",
      "not using YALE\n",
      "not using YALE\n",
      "not using YALE\n",
      "not using YALE\n",
      "not using YALE\n",
      "not using YALE\n",
      "not using YALE\n",
      "not using YALE\n",
      "not using YALE\n",
      "not using YALE\n",
      "not using YALE\n",
      "not using YALE\n",
      "not using YALE\n",
      "not using YALE\n",
      "not using YALE\n",
      "not using YALE\n",
      "not using YALE\n",
      "not using YALE\n",
      "not using YALE\n",
      "not using YALE\n",
      "not using YALE\n",
      "not using YALE\n",
      "not using YALE\n",
      "not using YALE\n",
      "not using YALE\n",
      "not using YALE\n",
      "not using YALE\n",
      "not using YALE\n",
      "not using YALE\n",
      "not using YALE\n",
      "not using YALE\n",
      "not using YALE\n",
      "not using YALE\n",
      "not using YALE\n",
      "not using YALE\n",
      "not using YALE\n",
      "not using YALE\n",
      "not using YALE\n",
      "not using YALE\n",
      "not using YALE\n",
      "not using YALE\n",
      "not using YALE\n",
      "not using YALE\n",
      "not using YALE\n",
      "not using YALE\n",
      "not using YALE\n",
      "not using YALE\n",
      "not using YALE\n",
      "not using YALE\n",
      "not using YALE\n",
      "not using YALE\n",
      "not using YALE\n",
      "not using YALE\n",
      "not using YALE\n",
      "not using YALE\n",
      "not using YALE\n",
      "not using YALE\n",
      "not using YALE\n",
      "not using YALE\n",
      "not using YALE\n",
      "not using YALE\n",
      "not using YALE\n",
      "not using YALE\n",
      "not using YALE\n",
      "not using YALE\n",
      "not using YALE\n",
      "not using YALE\n",
      "not using YALE\n",
      "not using YALE\n",
      "not using YALE\n",
      "not using YALE\n",
      "not using YALE\n",
      "not using YALE\n",
      "not using YALE\n",
      "not using YALE\n"
     ]
    }
   ],
   "source": [
    "sub_list = list()\n",
    "scores_list = list()\n",
    "seed_list = list()\n",
    "dual_list = list()\n",
    "\n",
    "for index, row in pheno.iterrows():\n",
    "    # Find out if this guy has a file where we are looking for it\n",
    "    search_seed = os.path.join(seed_path, seed_temp.format(row['sub']))\n",
    "    match_seed = glob.glob(search_seed)\n",
    "    search_scores = os.path.join(scores_path, scores_temp.format(row['sub']))\n",
    "    match_scores = glob.glob(search_scores)\n",
    "    search_dual = os.path.join(dual_path, dual_temp.format(row['sub']))\n",
    "    match_dual = glob.glob(search_dual)\n",
    "    site = row['site']\n",
    "    if not match_seed or not match_scores or not match_dual or not site in sites:\n",
    "        print('not using {}'.format(site))\n",
    "        continue\n",
    "        \n",
    "    # Append the paths\n",
    "    sub_list.append('{}\\n'.format(row['sub']))\n",
    "    scores_list.append('{}\\n'.format(match_scores[0]))\n",
    "    seed_list.append('{}\\n'.format(match_seed[0]))\n",
    "    dual_list.append('{}\\n'.format(match_dual[0]))\n",
    "\n",
    "num_subs = len(sub_list)\n",
    "glm_mat = np.zeros((num_subs, num_covs))\n",
    "\n",
    "count = 0\n",
    "for index, row in pheno.iterrows():\n",
    "    index = count\n",
    "    # Find out if this guy has a file where we are looking for it\n",
    "    search_seed = os.path.join(seed_path, seed_temp.format(row['sub']))\n",
    "    match_seed = glob.glob(search_seed)\n",
    "    search_scores = os.path.join(scores_path, scores_temp.format(row['sub']))\n",
    "    match_scores = glob.glob(search_scores)\n",
    "    search_dual = os.path.join(dual_path, dual_temp.format(row['sub']))\n",
    "    match_dual = glob.glob(search_dual)\n",
    "    site = row['site']\n",
    "    if not match_seed or not match_scores or not match_dual or not site in sites:\n",
    "        continue\n",
    "    # Add covariates\n",
    "    # Sex\n",
    "    glm_mat[index, 1] = row['sex'] - 1\n",
    "    # Diagnosis\n",
    "    glm_mat[index, 2] = row['diag'] - 1\n",
    "    # Age\n",
    "    glm_mat[index, 3] = row['age']\n",
    "    # Mean FD\n",
    "    glm_mat[index, 4] = row['mean_fd']\n",
    "    # Site\n",
    "    site = row['site']\n",
    "    site_id = sites.index(site)\n",
    "    if site_id == 0:\n",
    "        # first site doesn't get assigned a covariate\n",
    "        continue\n",
    "    # Otherwise add 1 at the correct location\n",
    "    glm_mat[index, 4+site_id] = 1\n",
    "    count += 1\n",
    "# Demean the covariates\n",
    "mean_vec = np.mean(glm_mat, 0)\n",
    "glm_mat -= mean_vec\n",
    "# Add the intercept as the first covariate\n",
    "glm_mat[:,0] = 1"
   ]
  },
  {
   "cell_type": "code",
   "execution_count": 21,
   "metadata": {
    "collapsed": false
   },
   "outputs": [
    {
     "data": {
      "text/plain": [
       "<matplotlib.image.AxesImage at 0x5cd9190>"
      ]
     },
     "execution_count": 21,
     "metadata": {},
     "output_type": "execute_result"
    },
    {
     "data": {
      "image/png": "[encoded data removed]",
      "text/plain": [
       "<matplotlib.figure.Figure at 0x5eabf90>"
      ]
     },
     "metadata": {},
     "output_type": "display_data"
    }
   ],
   "source": [
    "f = plt.figure(figsize=[6,10])\n",
    "ax = f.add_subplot(111)\n",
    "ax.imshow(glm_mat, extent=[0,100,0,1], aspect='auto', cmap=cm.Greys, vmin=-1, vmax=1, interpolation='None')"
   ]
  },
  {
   "cell_type": "code",
   "execution_count": 22,
   "metadata": {
    "collapsed": false
   },
   "outputs": [],
   "source": [
    "# Save the mat file\n",
    "sio.savemat(f_glm, mdict={'glm': glm_mat})"
   ]
  },
  {
   "cell_type": "code",
   "execution_count": 23,
   "metadata": {
    "collapsed": false
   },
   "outputs": [],
   "source": [
    "with open(f_sub, 'w') as outfile:\n",
    "    outfile.writelines(sub_list)"
   ]
  },
  {
   "cell_type": "code",
   "execution_count": 24,
   "metadata": {
    "collapsed": false
   },
   "outputs": [],
   "source": [
    "with open(f_seed_path, 'w') as outfile:\n",
    "    outfile.writelines(seed_list)\n",
    "with open(f_scores_path, 'w') as outfile:\n",
    "    outfile.writelines(scores_list)\n",
    "with open(f_dual_path, 'w') as outfile:\n",
    "    outfile.writelines(dual_list)"
   ]
  },
  {
   "cell_type": "markdown",
   "metadata": {},
   "source": [
    "## Now to create the contrast vectors"
   ]
  },
  {
   "cell_type": "code",
   "execution_count": 25,
   "metadata": {
    "collapsed": true
   },
   "outputs": [],
   "source": [
    "names = ['intercept', 'sex', 'diag', 'age', 'mean_fd'] + sites"
   ]
  },
  {
   "cell_type": "code",
   "execution_count": 26,
   "metadata": {
    "collapsed": false
   },
   "outputs": [
    {
     "data": {
      "text/plain": [
       "['intercept',\n",
       " 'sex',\n",
       " 'diag',\n",
       " 'age',\n",
       " 'mean_fd',\n",
       " 'MAX_MUN',\n",
       " 'UCLA_2',\n",
       " 'SBL',\n",
       " 'PITT',\n",
       " 'UCLA_1',\n",
       " 'CMU',\n",
       " 'NYU',\n",
       " 'SDSU',\n",
       " 'KKI',\n",
       " 'USM',\n",
       " 'OLIN',\n",
       " 'LEUVEN_2',\n",
       " 'OHSU',\n",
       " 'STANFORD',\n",
       " 'CALTECH']"
      ]
     },
     "execution_count": 26,
     "metadata": {},
     "output_type": "execute_result"
    }
   ],
   "source": [
    "names"
   ]
  },
  {
   "cell_type": "code",
   "execution_count": null,
   "metadata": {
    "collapsed": true
   },
   "outputs": [],
   "source": []
  }
 ],
 "metadata": {
  "kernelspec": {
   "display_name": "Python 2",
   "language": "python",
   "name": "python2"
  },
  "language_info": {
   "codemirror_mode": {
    "name": "ipython",
    "version": 2
   },
   "file_extension": ".py",
   "mimetype": "text/x-python",
   "name": "python",
   "nbconvert_exporter": "python",
   "pygments_lexer": "ipython2",
   "version": "2.7.6"
  }
 },
 "nbformat": 4,
 "nbformat_minor": 0
}
